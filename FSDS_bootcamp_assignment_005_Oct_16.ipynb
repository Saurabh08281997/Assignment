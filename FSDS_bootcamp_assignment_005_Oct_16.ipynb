{
  "nbformat": 4,
  "nbformat_minor": 0,
  "metadata": {
    "colab": {
      "provenance": [],
      "collapsed_sections": []
    },
    "kernelspec": {
      "name": "python3",
      "display_name": "Python 3"
    },
    "language_info": {
      "name": "python"
    }
  },
  "cells": [
    {
      "cell_type": "markdown",
      "source": [
        "# ASSIGNMENTS \n",
        "## Send it before 0000 hrs IST or 12 AM Friday\n",
        "\n",
        "## NOTE: Evaluation will be done before next class.\n",
        "\n",
        "## HOW TO SUBMIT: -\n",
        "Download this notebook, Solve it and upload in the google form given in the mail."
      ],
      "metadata": {
        "id": "dkGbTD94s6CD"
      }
    },
    {
      "cell_type": "markdown",
      "source": [
        "# List, Tuple and Sets"
      ],
      "metadata": {
        "id": "n3FuI-mutNl6"
      }
    },
    {
      "cell_type": "markdown",
      "source": [
        "#### 1. On amazon website we have the following available items - \n",
        "\n",
        "```python\n",
        "amazon_website = [(\"watch\", 5000), (\"phone\", 10000), (\"laptop\", 50000), (\"shirt\", 1000)]\n",
        "```\n",
        "Take the user input N no. of times and find out the total cost to be paid?\n",
        "\n",
        "OR\n",
        "\n",
        "You can ask the user quntity or the count of item?\n",
        "\n",
        "if the item is not present in the amazon website then print that item as out of stock and do add it total\n",
        "\n",
        "\n",
        "HINT: while, for loop.. indexing"
      ],
      "metadata": {
        "id": "hZcGNSR2y9zW"
      }
    },
    {
      "cell_type": "code",
      "source": [
        "amazon_website = [(\"watch\", 5000), (\"phone\", 10000), (\"laptop\", 50000), (\"shirt\", 1000)]\n",
        "cart_total = 0\n",
        "while True :\n",
        "  item = input(\"Enter the item you want to buy: \")\n",
        "  qty = int(input(f\"Please enter the no of {item} you want to buy: \"))\n",
        "  itemExist = False\n",
        "  for items in amazon_website :\n",
        "    if items[0] == item.lower() :\n",
        "      cart_total += items[1]*qty\n",
        "      itemExist = True\n",
        "      break\n",
        "  if not itemExist :\n",
        "    print(f\"{item} is out of stock\")\n",
        "  ans = input(\"do you want to buy more items ?{y/n}: \")\n",
        "  if ans.lower() != 'y' :\n",
        "    break\n",
        "print(f\"Cart total is {cart_total}\")"
      ],
      "metadata": {
        "id": "Q1cJgP20P8tS",
        "outputId": "8486f29d-a3fe-40be-8c6f-e04068af1079",
        "colab": {
          "base_uri": "https://localhost:8080/"
        }
      },
      "execution_count": 5,
      "outputs": [
        {
          "output_type": "stream",
          "name": "stdout",
          "text": [
            "Enter the item you want to buy: Watch\n",
            "Please enter the no of Watch you want to buy: 2\n",
            "do you want to buy more items ?{y/n}: y\n",
            "Enter the item you want to buy: phone\n",
            "Please enter the no of phone you want to buy: 1\n",
            "do you want to buy more items ?{y/n}: y\n",
            "Enter the item you want to buy: abc\n",
            "Please enter the no of abc you want to buy: 5\n",
            "abc is out of stock\n",
            "do you want to buy more items ?{y/n}: n\n",
            "Cart total is 20000\n"
          ]
        }
      ]
    },
    {
      "cell_type": "markdown",
      "source": [
        "#### 2. What will be the output of the following code snippet?\n",
        "\n",
        "```\n",
        "arr = [1, 2, 3, 4, 5, 6]\n",
        "for i in range(1, 6):\n",
        "    arr[i - 1] = arr[i]\n",
        "for i in range(0, 6): \n",
        "    print(arr[i], end = \" \")\n",
        "```"
      ],
      "metadata": {
        "id": "FQrKC2gzzsUm"
      }
    },
    {
      "cell_type": "markdown",
      "source": [
        "**Output**: 2 3 4 5 6 6 \n",
        "\n",
        "**Reason** : elements are copied to previous index, so last element remains unchanged"
      ],
      "metadata": {
        "id": "vVwuep8EZy30"
      }
    },
    {
      "cell_type": "markdown",
      "source": [
        "#### 3. Write a Python program to find the repeated items of a tuple."
      ],
      "metadata": {
        "id": "nL_DZJFS0ZZF"
      }
    },
    {
      "cell_type": "code",
      "source": [
        "t =(1,2,3,4,5,2,3)\n",
        "s = set()  \n",
        "for num in t:\n",
        "    if t.count(num) > 1 and num not in s :\n",
        "        print(num)\n",
        "        s.add(num)"
      ],
      "metadata": {
        "id": "wrqbnVjPQCE7",
        "outputId": "353f8956-2ad5-4b40-d76c-61d3237e30ca",
        "colab": {
          "base_uri": "https://localhost:8080/"
        }
      },
      "execution_count": 8,
      "outputs": [
        {
          "output_type": "stream",
          "name": "stdout",
          "text": [
            "2\n",
            "3\n"
          ]
        }
      ]
    },
    {
      "cell_type": "markdown",
      "source": [
        "### 4. Replace last value of tuples in a list with 500. Try using list comprehension\n",
        "\n",
        "Example -: \n",
        "```\n",
        "Input -:\n",
        "\n",
        "[(10, 20, 40), (40, 50, 60), (70, 80, 90)]\n",
        "\n",
        "Output -:\n",
        "[(10, 20, 500), (40, 50, 500), (70, 80, 500)]\n",
        "\n",
        "\n",
        "```\n"
      ],
      "metadata": {
        "id": "ne8WpLZZ1GSm"
      }
    },
    {
      "cell_type": "code",
      "source": [
        "l = [(10, 20, 40), (40, 50, 60), (70, 80, 90)]\n",
        "l = [t[:-1] + (500,) for t in l]\n",
        "print(l)"
      ],
      "metadata": {
        "id": "YpvH9Di21z-O",
        "outputId": "c5a2aba7-47fa-47a4-c3cc-9dbbada64c42",
        "colab": {
          "base_uri": "https://localhost:8080/"
        }
      },
      "execution_count": 11,
      "outputs": [
        {
          "output_type": "stream",
          "name": "stdout",
          "text": [
            "[(10, 20, 500), (40, 50, 500), (70, 80, 500)]\n"
          ]
        }
      ]
    }
  ]
}