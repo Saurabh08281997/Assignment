{
  "nbformat": 4,
  "nbformat_minor": 0,
  "metadata": {
    "colab": {
      "provenance": [],
      "collapsed_sections": []
    },
    "kernelspec": {
      "name": "python3",
      "display_name": "Python 3"
    },
    "language_info": {
      "name": "python"
    }
  },
  "cells": [
    {
      "cell_type": "markdown",
      "source": [
        "# ASSIGNMENTS - Compulsory\n",
        "## Send it before 0000 hrs IST or 12 AM Wednesday\n",
        "\n",
        "## NOTE: Evaluation will be done before next class.\n",
        "\n",
        "## HOW TO SUBMIT: -\n",
        "Download this notebook, Solve it and upload in the google form given in the mail."
      ],
      "metadata": {
        "id": "cyOfbWCdOjEr"
      }
    },
    {
      "cell_type": "markdown",
      "source": [
        "## Python String Manipulation\n",
        "\n",
        "1. Count the number of times `iNeuron` appears in the string.\n",
        "```python\n",
        "text = \"Welcome to iNeuron, You are a part of FSDS Bootcamp 2 in iNeuron. I hope you are enjoying the course by iNeuron\"\n",
        "```"
      ],
      "metadata": {
        "id": "GT4IytkJMNa-"
      }
    },
    {
      "cell_type": "code",
      "source": [
        "text = \"Welcome to iNeuron, You are a part of FSDS Bootcamp 2 in iNeuron. I hope you are enjoying the course by iNeuron\"\n",
        "print(text.count(\"iNeuron\"))"
      ],
      "metadata": {
        "id": "KwVni9gipNi-",
        "outputId": "be468f6b-0929-4b2d-ab40-c724b6688cb5",
        "colab": {
          "base_uri": "https://localhost:8080/"
        }
      },
      "execution_count": 25,
      "outputs": [
        {
          "output_type": "stream",
          "name": "stdout",
          "text": [
            "3\n"
          ]
        }
      ]
    },
    {
      "cell_type": "markdown",
      "source": [
        "2. Check if position `5` to `11` ends with the phrase `iNeuron.` in the string \n",
        "```python\n",
        "txt = \"Hello, welcome to FSDS 2.0 at iNeuron.\"\n",
        "```"
      ],
      "metadata": {
        "id": "nLSnnuwvadMs"
      }
    },
    {
      "cell_type": "code",
      "source": [
        "txt = \"Hello, welcome to FSDS 2.0 at iNeuron.\"\n",
        "print(txt[5:12][-len(\"iNeuron\"):] == \"iNeuron\") # Method 1\n",
        "print(txt[5:12].endswith(\"iNeuron\")) # Method2"
      ],
      "metadata": {
        "id": "FljvqySUa3bd",
        "outputId": "5958a503-b9d6-40b2-bec4-2f37b1a400a3",
        "colab": {
          "base_uri": "https://localhost:8080/"
        }
      },
      "execution_count": 26,
      "outputs": [
        {
          "output_type": "stream",
          "name": "stdout",
          "text": [
            "False\n",
            "False\n"
          ]
        }
      ]
    },
    {
      "cell_type": "markdown",
      "source": [
        "3. Write a program that takes your full name as input and displays the abbreviations of the first and middle names except the last name which is displayed as it is. For example, if your name is Sunny Bhaveen Chandra, then the output should be S.B.Chandra."
      ],
      "metadata": {
        "id": "bHZkgqDNa5gn"
      }
    },
    {
      "cell_type": "code",
      "source": [
        "name = input(\"Enter your Name: \")\n",
        "name = name.split(\" \")\n",
        "abbr = \"\"\n",
        "for i in range(len(name)-1) :\n",
        "  abbr += name[i][0]+\".\"\n",
        "abbr += name[-1]\n",
        "print(abbr)"
      ],
      "metadata": {
        "id": "DDaUfOoIbByM",
        "outputId": "32a12516-45a2-41ed-cc6e-e1d147c0437a",
        "colab": {
          "base_uri": "https://localhost:8080/"
        }
      },
      "execution_count": 16,
      "outputs": [
        {
          "metadata": {
            "tags": null
          },
          "name": "stdout",
          "output_type": "stream",
          "text": [
            "S.Maurya\n"
          ]
        }
      ]
    },
    {
      "cell_type": "markdown",
      "source": [
        "4. Join all items in a list into a string, using a hash(`#`) character as separator:\n",
        "```python\n",
        "LIST = [\"My\", \"name\", \"is\", \"Rishav\", \"Dash\"]\n",
        "```"
      ],
      "metadata": {
        "id": "ZqfkksArbCUS"
      }
    },
    {
      "cell_type": "code",
      "source": [
        "LIST = [\"My\", \"name\", \"is\", \"Rishav\", \"Dash\"]\n",
        "items = '#'.join(LIST)\n",
        "print(items)"
      ],
      "metadata": {
        "id": "vkAhf5I7bL8_",
        "outputId": "0d1d4d9c-6f56-476e-e0e1-4bf44a177801",
        "colab": {
          "base_uri": "https://localhost:8080/"
        }
      },
      "execution_count": 17,
      "outputs": [
        {
          "metadata": {
            "tags": null
          },
          "name": "stdout",
          "output_type": "stream",
          "text": [
            "My#name#is#Rishav#Dash\n"
          ]
        }
      ]
    },
    {
      "cell_type": "markdown",
      "source": [
        "5. Write example for the following string manipulation function,\n",
        "\n",
        "  ```\n",
        "  - isdecimal()\n",
        "  - islower()\n",
        "  - isupper()\n",
        "  - isalpha()\n",
        "  - isnumeric()\n",
        "\n",
        "  ```"
      ],
      "metadata": {
        "id": "3gwpngmcbMto"
      }
    },
    {
      "cell_type": "code",
      "source": [
        "print(\"0\".isdecimal())\n",
        "print(\"-1\".isdecimal())\n",
        "print(\"2.3\".isdecimal())"
      ],
      "metadata": {
        "id": "z2HCYcMoOYjo",
        "outputId": "201ba177-7f96-4125-c8a1-7a2e86670bf5",
        "colab": {
          "base_uri": "https://localhost:8080/"
        }
      },
      "execution_count": 18,
      "outputs": [
        {
          "metadata": {
            "tags": null
          },
          "name": "stdout",
          "output_type": "stream",
          "text": [
            "True\n",
            "False\n",
            "False\n"
          ]
        }
      ]
    },
    {
      "cell_type": "code",
      "source": [
        "print(\"abc\".islower())\n",
        "print(\"ABC\".islower())"
      ],
      "metadata": {
        "id": "cTplT2apTf5B",
        "outputId": "654b294c-94c0-460a-9bb5-c2b35ac699c3",
        "colab": {
          "base_uri": "https://localhost:8080/"
        }
      },
      "execution_count": 19,
      "outputs": [
        {
          "metadata": {
            "tags": null
          },
          "name": "stdout",
          "output_type": "stream",
          "text": [
            "True\n",
            "False\n"
          ]
        }
      ]
    },
    {
      "cell_type": "code",
      "source": [
        "print(\"abc\".isupper())\n",
        "print(\"ABC\".isupper())"
      ],
      "metadata": {
        "id": "_OSB5QljTuBg",
        "outputId": "9c73eb33-a61a-4519-dceb-13349f822b28",
        "colab": {
          "base_uri": "https://localhost:8080/"
        }
      },
      "execution_count": 20,
      "outputs": [
        {
          "metadata": {
            "tags": null
          },
          "name": "stdout",
          "output_type": "stream",
          "text": [
            "False\n",
            "True\n"
          ]
        }
      ]
    },
    {
      "cell_type": "code",
      "source": [
        "print(\"abc\".isalpha())\n",
        "print(\"abc \".isalpha())\n",
        "print(\"abc123\".isalpha())"
      ],
      "metadata": {
        "id": "wFbXNLNET_cl",
        "outputId": "682715fc-bc56-4663-e50c-91ba1b225ea7",
        "colab": {
          "base_uri": "https://localhost:8080/"
        }
      },
      "execution_count": 21,
      "outputs": [
        {
          "metadata": {
            "tags": null
          },
          "name": "stdout",
          "output_type": "stream",
          "text": [
            "True\n",
            "False\n",
            "False\n"
          ]
        }
      ]
    },
    {
      "cell_type": "code",
      "source": [
        "print(\"\\u0030\".isnumeric())\n",
        "print(\"10\".isnumeric())\n",
        "print(\"-10\".isnumeric())\n",
        "print(\"1.4\".isnumeric())"
      ],
      "metadata": {
        "id": "nzZVZhLZUsrD",
        "outputId": "fb3bbdb9-8e96-48fd-b608-7646b907db7b",
        "colab": {
          "base_uri": "https://localhost:8080/"
        }
      },
      "execution_count": 22,
      "outputs": [
        {
          "metadata": {
            "tags": null
          },
          "name": "stdout",
          "output_type": "stream",
          "text": [
            "True\n",
            "True\n",
            "False\n",
            "False\n"
          ]
        }
      ]
    },
    {
      "cell_type": "code",
      "source": [
        "inputString = input(\"Enter your String: \")\n",
        "if inputString.isdecimal() :\n",
        "  print(f\"{inputString} is decimal\")\n",
        "if inputString.islower() :\n",
        "  print(f\"{inputString} is in lowercase\")\n",
        "if inputString.isupper() :\n",
        "  print(f\"{inputString} is in uppercase\")\n",
        "if inputString.isalpha() :\n",
        "  print(f\"{inputString} is an alphabetic\")\n",
        "if inputString.isnumeric() :\n",
        "  print(f\"{inputString} is numeric\")"
      ],
      "metadata": {
        "id": "HzRMLYMGbR8y",
        "outputId": "c94e055d-2beb-4c19-88ab-3ab6884b13b7",
        "colab": {
          "base_uri": "https://localhost:8080/"
        }
      },
      "execution_count": 23,
      "outputs": [
        {
          "output_type": "stream",
          "name": "stdout",
          "text": [
            "Enter your String: dsa\n",
            "dsa is in lowercase\n",
            "dsa is an alphabetic\n"
          ]
        }
      ]
    },
    {
      "cell_type": "markdown",
      "source": [
        "6. Indian PAN card format follows the following formats - \n",
        "    - `AYEPC7894X`\n",
        "    - `ABCDE9999Y`\n",
        "  Take user input for PAN_CARD and validate as per the above example.\n"
      ],
      "metadata": {
        "id": "du6kSBDbbVYn"
      }
    },
    {
      "cell_type": "code",
      "source": [
        "pan = input(\"Enter your Pan Card No: \")\n",
        "if len(pan) == 10 :\n",
        "  if pan[:5].isalpha() and pan[:5].isupper() :\n",
        "    if pan[5:-1].isdecimal() :\n",
        "      if pan[-1].isalpha() and pan[-1].isupper() :\n",
        "        print(f\"{pan} is a valid PAN Card\")\n",
        "      else :\n",
        "        print(\"last character should be upper case albhabetic\")\n",
        "    else :\n",
        "      print(\"6th to 9th character should be decimal\")\n",
        "  else :\n",
        "    print(\"first 5 character should be upper case albhabetic\")\n",
        "else :\n",
        "  print(\"A valid pan card should have 10 characters and contain only alphanumeric characters\")"
      ],
      "metadata": {
        "id": "FEA6oxHGbZoV",
        "outputId": "c05888e1-879d-4db6-cb6b-0489ec594438",
        "colab": {
          "base_uri": "https://localhost:8080/"
        }
      },
      "execution_count": 24,
      "outputs": [
        {
          "output_type": "stream",
          "name": "stdout",
          "text": [
            "Enter your Pan Card No: AYEPC7894X\n",
            "AYEPC7894X is a valid PAN Card\n"
          ]
        }
      ]
    }
  ]
}