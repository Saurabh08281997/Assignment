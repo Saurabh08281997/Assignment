{
  "nbformat": 4,
  "nbformat_minor": 0,
  "metadata": {
    "colab": {
      "provenance": [],
      "collapsed_sections": []
    },
    "kernelspec": {
      "name": "python3",
      "display_name": "Python 3"
    },
    "language_info": {
      "name": "python"
    }
  },
  "cells": [
    {
      "cell_type": "markdown",
      "source": [
        "# ASSIGNMENTS \n",
        "## Send it before 0000 hrs IST or 12 AM Wednesday\n",
        "\n",
        "## NOTE: Evaluation will be done before next class.\n",
        "\n",
        "## HOW TO SUBMIT: -\n",
        "Download this notebook, Solve it and upload in the google form given in the mail."
      ],
      "metadata": {
        "id": "dkGbTD94s6CD"
      }
    },
    {
      "cell_type": "markdown",
      "source": [
        "## control flow and conditional statements"
      ],
      "metadata": {
        "id": "n3FuI-mutNl6"
      }
    },
    {
      "cell_type": "markdown",
      "source": [
        "Q1. Find the largest number from the given list, use for loop.\n",
        "\n",
        "```\n",
        "numbers = [12, 75, 150, 180, 145, 525, 50]\n",
        "```"
      ],
      "metadata": {
        "id": "NCW2epdyuJ-a"
      }
    },
    {
      "cell_type": "code",
      "source": [
        "numbers = [12, 75, 150, 180, 145, 525, 50]\n",
        "m = numbers[0]\n",
        "for num in numbers[1:] :\n",
        "  if m < num :\n",
        "    m = num\n",
        "print(f\"largest number is {m}\")"
      ],
      "metadata": {
        "id": "x6jrnGmoGfTg",
        "outputId": "6c8cb4a9-40f6-4f82-9723-dd20dff8c33d",
        "colab": {
          "base_uri": "https://localhost:8080/"
        }
      },
      "execution_count": 11,
      "outputs": [
        {
          "output_type": "stream",
          "name": "stdout",
          "text": [
            "largest number is 525\n"
          ]
        }
      ]
    },
    {
      "cell_type": "markdown",
      "source": [
        "Q2. Print all the even number between (1, 12)."
      ],
      "metadata": {
        "id": "Qsg0i1fTwEQj"
      }
    },
    {
      "cell_type": "code",
      "source": [
        "print(\"Even numbers between 1 and 12:\")\n",
        "for num in range(1,13) :\n",
        "  if num % 2 == 0 :\n",
        "    print(num, end =\" \")"
      ],
      "metadata": {
        "id": "p1mZ1DF6GglS",
        "outputId": "a94b93dd-a423-4b2f-e8b5-39c1f37f4fca",
        "colab": {
          "base_uri": "https://localhost:8080/"
        }
      },
      "execution_count": 12,
      "outputs": [
        {
          "output_type": "stream",
          "name": "stdout",
          "text": [
            "Even numbers between 1 and 12:\n",
            "2 4 6 8 10 12 "
          ]
        }
      ]
    },
    {
      "cell_type": "markdown",
      "source": [
        "Q3. Calculate the sum of all numbers from 1 to a given number\n",
        "    \n",
        "    Expected Output:\n",
        "\n",
        "    Enter number 10\n",
        "    \n",
        "    Sum is:  55\n"
      ],
      "metadata": {
        "id": "WG2QcDDhwi4a"
      }
    },
    {
      "cell_type": "code",
      "source": [
        "num = int(input(\"Enter the Number: \"))\n",
        "s = 0\n",
        "for i in range(1, num + 1) :\n",
        "  s += i\n",
        "print(f\"Sum of all Numbers 1 to {num} is {s}\")"
      ],
      "metadata": {
        "id": "ZNEQHS-eGh8Y",
        "outputId": "19caf526-3683-4ea8-97e8-285ee8f72d1f",
        "colab": {
          "base_uri": "https://localhost:8080/"
        }
      },
      "execution_count": 13,
      "outputs": [
        {
          "output_type": "stream",
          "name": "stdout",
          "text": [
            "Enter the Number: 7\n",
            "Sum of all Numbers 1 to 7 is 28\n"
          ]
        }
      ]
    },
    {
      "cell_type": "markdown",
      "source": [
        "Q4. Write a program to display only those numbers from a list that satisfy the following conditions\n",
        "\n",
        "- The number must be divisible by five\n",
        "\n",
        "- If the number is greater than 150, then skip it and move to the next number\n",
        "\n",
        "- If the number is greater than 500, then stop the loop"
      ],
      "metadata": {
        "id": "mc7lLUm5f4Cq"
      }
    },
    {
      "cell_type": "code",
      "source": [
        "# Given:\n",
        "numbers = [12, 75, 150, 180, 145, 525, 50]\n",
        "for num in numbers :\n",
        "  if num % 5 == 0 :\n",
        "    if num > 500 :\n",
        "      break\n",
        "    if num > 150 :\n",
        "      continue\n",
        "    print(f\"{num}\", end=\" \")"
      ],
      "metadata": {
        "id": "P3Ct2ocKf6Hy",
        "outputId": "ef19b019-157b-4849-b0e1-d3efaa4bbbfe",
        "colab": {
          "base_uri": "https://localhost:8080/"
        }
      },
      "execution_count": 14,
      "outputs": [
        {
          "output_type": "stream",
          "name": "stdout",
          "text": [
            "75 150 145 "
          ]
        }
      ]
    },
    {
      "cell_type": "markdown",
      "source": [
        "Q5. Print the given list in reverse order.\n",
        "\n",
        "```\n",
        "list1 = [10, 20, 30, 40, 50]\n",
        "```"
      ],
      "metadata": {
        "id": "rrxWvy7nMnAs"
      }
    },
    {
      "cell_type": "code",
      "source": [
        "list1 = [10, 20, 30, 40, 50]\n",
        "print(\"reverse order of list is : \")\n",
        "for i in list1[::-1] :\n",
        "  print(i, end = \" \")"
      ],
      "metadata": {
        "id": "z-GDgPn3Nr0y",
        "outputId": "df3a37bb-390e-44c3-f64c-66e684178686",
        "colab": {
          "base_uri": "https://localhost:8080/"
        }
      },
      "execution_count": 15,
      "outputs": [
        {
          "output_type": "stream",
          "name": "stdout",
          "text": [
            "reverse order of list is : \n",
            "50 40 30 20 10 "
          ]
        }
      ]
    }
  ]
}