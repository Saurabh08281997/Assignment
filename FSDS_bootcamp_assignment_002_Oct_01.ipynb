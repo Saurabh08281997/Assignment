{
  "nbformat": 4,
  "nbformat_minor": 0,
  "metadata": {
    "colab": {
      "provenance": [],
      "collapsed_sections": []
    },
    "kernelspec": {
      "name": "python3",
      "display_name": "Python 3"
    },
    "language_info": {
      "name": "python"
    }
  },
  "cells": [
    {
      "cell_type": "markdown",
      "source": [
        "# ASSIGNMENTS - Compulsory\n",
        "## Send it before 0000 hrs IST or 12 AM Wednesday\n",
        "\n",
        "## NOTE: Evaluation will be done before next class.\n",
        "\n",
        "## HOW TO SUBMIT: -\n",
        "Download this notebook, Solve it and upload in the google form given in the mail."
      ],
      "metadata": {
        "id": "cyOfbWCdOjEr"
      }
    },
    {
      "cell_type": "markdown",
      "source": [
        "\n",
        "1. What is indentation error? Why indentation is important? Give one simple example?\n",
        "\n",
        "  Indentation refers to the spaces at the beginning of a code line.\n",
        "  Python uses indentation to indicate a block of code.\n",
        "  Without proper identation, code will give \"IndentationError\".\n",
        "  In Other programming language like C, Java it is not mandatory, It can be use for readability of code.\n",
        "  \n",
        "  **Example**\n",
        "  ```python\n",
        "  # Below block of code will execute without error\n",
        "  if 2 > 1:\n",
        "      print(\"Two is greater than one\")\n",
        "\n",
        "  # Below block of code will throw \"IndentationError\"\n",
        "  if 2 > 1:\n",
        "  print(\"Two is greater than one\")\n",
        "  ```\n",
        "\n",
        "\n",
        "2. Correct the following code and write the comment where you made the correction?\n",
        "\n",
        "  ```python\n",
        "  # First \"str\" converted to \"int\" then \"int\" converted \"bool\"\n",
        "  # only empty string will return False, if conveted to bool\n",
        "  # if integer converted to bool then 0 will return False and 1 will return True\n",
        "  class_started = bool(int(input(\"Hey friend, is class started?: [0-False/1-True]\")))\n",
        "\n",
        "  if class_started:\n",
        "      print(\"Since class started...\")\n",
        "      print(\"Lets concentrate\")\n",
        "  else:\n",
        "      print(\"Since class is not started...\")\n",
        "      print(\"let's revise\")    \n",
        "  ```\n",
        "\n",
        "  **HINT:** Refer your data type conversion class\n",
        "\n",
        "3. Use if else condition to verify that dataype of `input()` method in python is always string.\n",
        "```python\n",
        "  number = input(\"Enter your input and hit enter \")\n",
        "  if type(number) == str :\n",
        "      print(\"type of number is string\")\n",
        "  else :\n",
        "      print(\"type of number is not string\")\n",
        "  ```\n",
        "\n",
        "4. Take 3 variables and assign integer values to them. Find the largest variable, by only using the if and else conditions.\n",
        "```python\n",
        "  var1 = 1\n",
        "  var2 = 2\n",
        "  var3 = 3\n",
        "  if var1 > var2 and var1 > var3 :\n",
        "      print(var1)\n",
        "  elif var2 > var1 and var2 > var3 :\n",
        "      print(var2)\n",
        "  else :\n",
        "    print(var3)  \n",
        "```\n",
        "\n",
        "5. What would be the solution?\n",
        "    1. True\n",
        "    2. False\n",
        "\n",
        "    ```python\n",
        "    a = 6\n",
        "    b = 10\n",
        "    print( not ( not a == 10 or not b == 10) )\n",
        "    ```\n",
        "    Solution: 2) False\n",
        "\n",
        "    Reason : not (not (False) or not (True)) -> not (True or False) -> not (True) -> False\n",
        "\n",
        "\n",
        "6. Find the answer as well as find out the reason behind the result? -\n",
        "    - case 1:\n",
        "        ```python\n",
        "        A = 5.0\n",
        "        B = 10/2\n",
        "        print(A is B)\n",
        "        ```\n",
        "    - case 2:\n",
        "        ```python\n",
        "        A = 5.0\n",
        "        B = int(10/2)\n",
        "        print(A is B)\n",
        "        ```\n",
        "    - case 3:\n",
        "        ```python\n",
        "        A = 5.0\n",
        "        B = float(10/2)\n",
        "        print(A is B)\n",
        "        ```\n",
        "\n",
        "    Answer : For all 3 cases output is \"False\".\n",
        "    \n",
        "    Reason : '==' is for value equality. It's used to know if two objects have the same value while 'is' used to check if two object is identical (if both have same memory address).\n",
        "    Here memory address of both variable is different"
      ],
      "metadata": {
        "id": "GT4IytkJMNa-"
      }
    },
    {
      "cell_type": "markdown",
      "source": [
        "### Try to understand the following examples and answer the question based on it - \n",
        "    \n",
        "**Arithmatic Operators**\n",
        "\n",
        "|Operation|Meaning|\n",
        "|:-:|:-:|\n",
        "| **+** |addition|\n",
        "| **-** |subtraction|\n",
        "| **\\*** |multiplication|\n",
        "| **/** |true division|\n",
        "| **//** |integer division|\n",
        "| **%** |the modulo operator|\n",
        "\n",
        "\n",
        "Here `+`, `-`, `*`, `/` are regular arithmatic operators. Lets look at the `//` and `%` operators\n",
        "\n",
        "Usecase or examples - \n",
        "    \n",
        "```python\n",
        "var_a = 5\n",
        "var_b = 25\n",
        "integer_division = var_b // var_a\n",
        "print(f\"integer division: {var_b}/{var_a}={integer_division}\")\n",
        "```\n",
        "\n",
        "OUTPUT: integer division: 25/5=5\n",
        "\n",
        "```python\n",
        "var_a = 3\n",
        "var_b = 25\n",
        "integer_division = var_b // var_a\n",
        "print(f\"integer division: {var_b}/{var_a}={integer_division}\")\n",
        "```\n",
        "\n",
        "OUTPUT: integer division: 25/3=8\n",
        "\n",
        "```python\n",
        "var_a = 5\n",
        "var_b = 25\n",
        "remainder = var_b % var_a\n",
        "print(f\"remainder: {var_b}/{var_a} is {remainder}\")\n",
        "```\n",
        "\n",
        "OUTPUT: remainder: 25/5 is 0\n",
        "\n",
        "```python\n",
        "var_a = 3\n",
        "var_b = 25\n",
        "remainder = var_b % var_a\n",
        "print(f\"remainder: {var_b}/{var_a} is {remainder}\")\n",
        "```\n",
        "\n",
        "OUTPUT: remainder: 25/3 is 1\n",
        "\n"
      ],
      "metadata": {
        "id": "a_4kbBVWNY-4"
      }
    },
    {
      "cell_type": "markdown",
      "source": [
        "### Answer below questions on the above theory - \n",
        "\n",
        "7. Write a program that asks the user to enter a number. You should print out a message to the user, either “That number is divisible by either 3 or 5”, or “That number is not divisible by either 3 or 5”. Be sure to consider the data type of the input you are taking in from the user. Use a single if/else block to solve this problem."
      ],
      "metadata": {
        "id": "v288WPlMNxmM"
      }
    },
    {
      "cell_type": "code",
      "source": [
        "num = float(input(\"Enter the Number \"))\n",
        "if num % 3 ==  0 or num % 5 == 0 :\n",
        "  print(f\"{num} is divisible by either 3 or 5\")\n",
        "else :\n",
        "  print(f\"{num} is not divisible by either 3 or 5\")"
      ],
      "metadata": {
        "id": "WkTfBT4zc7z2",
        "outputId": "68ba878f-869c-4896-da58-3d2d30abdfe4",
        "colab": {
          "base_uri": "https://localhost:8080/"
        }
      },
      "execution_count": 9,
      "outputs": [
        {
          "output_type": "stream",
          "name": "stdout",
          "text": [
            "Enter the Number 18.0\n",
            "18.0 is divisible by either 3 or 5\n"
          ]
        }
      ]
    },
    {
      "cell_type": "markdown",
      "source": [
        "8. Take user input for length and width. Then calculate the area of rectangle. Also print as per length and width whether its a square of rectangle.\n"
      ],
      "metadata": {
        "id": "O471R9NYdH97"
      }
    },
    {
      "cell_type": "code",
      "source": [
        "length = float(input(\"Enter the length \"))\n",
        "width = float(input(\"Enter the width \"))\n",
        "area = length * width\n",
        "print(f\"Area of rectangle with length = {length} and width = {width} is {area} square unit\")\n",
        "if length == width :\n",
        "  print(\"It is Square\")\n",
        "else :\n",
        "  print(\"It is Rectangle\")"
      ],
      "metadata": {
        "id": "zV7rj8U_dMeo",
        "outputId": "93f63b9a-a9c7-4587-bea6-bdc6a7794809",
        "colab": {
          "base_uri": "https://localhost:8080/"
        }
      },
      "execution_count": 11,
      "outputs": [
        {
          "output_type": "stream",
          "name": "stdout",
          "text": [
            "Enter the length 10\n",
            "Enter the width 10\n",
            "Area of rectangle with length = 10.0 and width = 10.0 is 100.0 square unit\n",
            "It is Square\n"
          ]
        }
      ]
    },
    {
      "cell_type": "markdown",
      "source": [
        "9. Take two variable radius_1 and radius_2 and calculate the area of circle_1 and circle_2. Also print which circle has large area. If area is equal then print area is equal."
      ],
      "metadata": {
        "id": "am9hWRBjdOWc"
      }
    },
    {
      "cell_type": "code",
      "source": [
        "radius1 = float(input(\"Enter the radius of 1st circle \"))\n",
        "radius2 = float(input(\"Enter the radius of 2nd circle \"))\n",
        "pi = 3.14\n",
        "area1 = pi*radius1**2\n",
        "area2 = pi*radius2**2\n",
        "print(f\"Area of 1st circle with radius = {radius1} is {area1}\")\n",
        "print(f\"Area of 1st circle with radius = {radius2} is {area2}\")\n",
        "if area1 > area2 :\n",
        "  print(\"1st circle has larger area\")\n",
        "elif area2 > area1 :\n",
        "  print(\"2nd circle has larger area\")\n",
        "else :\n",
        "  print(\"Both circle has equal area\")"
      ],
      "metadata": {
        "id": "AVVJPRiZdXvn",
        "outputId": "672bf1e5-f681-4059-c219-e15df2df3117",
        "colab": {
          "base_uri": "https://localhost:8080/"
        }
      },
      "execution_count": 14,
      "outputs": [
        {
          "output_type": "stream",
          "name": "stdout",
          "text": [
            "Enter the radius of 1st circle 10\n",
            "Enter the radius of 2nd circle 10\n",
            "Area of 1st circle with radius = 10.0 is 314.0\n",
            "Area of 1st circle with radius = 10.0 is 314.0\n",
            "Both circle has equal area\n"
          ]
        }
      ]
    },
    {
      "cell_type": "markdown",
      "source": [
        "10. Check whether a year is leap year or not. Use nested if...else to solve this problem. A leap year is exactly divisible by 4 except for century years (years ending with 00). The century year is a leap year only if it is perfectly divisible by 400."
      ],
      "metadata": {
        "id": "of99j8nwdbky"
      }
    },
    {
      "cell_type": "code",
      "source": [
        "year = int(input(\"Enter the year in 'yyyy' format \"))\n",
        "if year % 4 == 0 :\n",
        "  if year % 400 == 0 :\n",
        "    print(f\"{year} is a leap year\")\n",
        "  elif year % 100 == 0 :\n",
        "    print(f\"{year} is not a leap year\")\n",
        "  else :\n",
        "    print(f\"{year} is a leap year\")\n",
        "else :\n",
        "  print(f\"{year} is not a leap year\")"
      ],
      "metadata": {
        "id": "RghCl1J3JWWR",
        "outputId": "1a4d683b-f28d-4d36-9b3f-48ba5e97611f",
        "colab": {
          "base_uri": "https://localhost:8080/"
        }
      },
      "execution_count": 18,
      "outputs": [
        {
          "output_type": "stream",
          "name": "stdout",
          "text": [
            "Enter the year in 'yyyy' format 2001\n",
            "2001 is not a leap year\n"
          ]
        }
      ]
    }
  ]
}